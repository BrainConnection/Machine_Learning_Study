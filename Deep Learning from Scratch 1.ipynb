{
  "nbformat": 4,
  "nbformat_minor": 0,
  "metadata": {
    "colab": {
      "provenance": [],
      "machine_shape": "hm",
      "gpuType": "V100"
    },
    "kernelspec": {
      "name": "python3",
      "display_name": "Python 3"
    },
    "language_info": {
      "name": "python"
    }
  },
  "cells": [
    {
      "cell_type": "markdown",
      "source": [
        "# Environment Setting"
      ],
      "metadata": {
        "id": "nHZOKbnMg33g"
      }
    },
    {
      "cell_type": "code",
      "execution_count": 3,
      "metadata": {
        "colab": {
          "base_uri": "https://localhost:8080/"
        },
        "id": "09dlWASwmtoK",
        "outputId": "558f995e-46a4-4868-f5a2-97e508a9d6ba"
      },
      "outputs": [
        {
          "output_type": "stream",
          "name": "stdout",
          "text": [
            "Requirement already satisfied: numpy in /usr/local/lib/python3.10/dist-packages (1.25.2)\n",
            "Requirement already satisfied: matplotlib in /usr/local/lib/python3.10/dist-packages (3.7.1)\n",
            "Requirement already satisfied: contourpy>=1.0.1 in /usr/local/lib/python3.10/dist-packages (from matplotlib) (1.2.0)\n",
            "Requirement already satisfied: cycler>=0.10 in /usr/local/lib/python3.10/dist-packages (from matplotlib) (0.12.1)\n",
            "Requirement already satisfied: fonttools>=4.22.0 in /usr/local/lib/python3.10/dist-packages (from matplotlib) (4.49.0)\n",
            "Requirement already satisfied: kiwisolver>=1.0.1 in /usr/local/lib/python3.10/dist-packages (from matplotlib) (1.4.5)\n",
            "Requirement already satisfied: numpy>=1.20 in /usr/local/lib/python3.10/dist-packages (from matplotlib) (1.25.2)\n",
            "Requirement already satisfied: packaging>=20.0 in /usr/local/lib/python3.10/dist-packages (from matplotlib) (23.2)\n",
            "Requirement already satisfied: pillow>=6.2.0 in /usr/local/lib/python3.10/dist-packages (from matplotlib) (9.4.0)\n",
            "Requirement already satisfied: pyparsing>=2.3.1 in /usr/local/lib/python3.10/dist-packages (from matplotlib) (3.1.1)\n",
            "Requirement already satisfied: python-dateutil>=2.7 in /usr/local/lib/python3.10/dist-packages (from matplotlib) (2.8.2)\n",
            "Requirement already satisfied: six>=1.5 in /usr/local/lib/python3.10/dist-packages (from python-dateutil>=2.7->matplotlib) (1.16.0)\n",
            "Requirement already satisfied: scipy in /usr/local/lib/python3.10/dist-packages (1.11.4)\n",
            "Requirement already satisfied: numpy<1.28.0,>=1.21.6 in /usr/local/lib/python3.10/dist-packages (from scipy) (1.25.2)\n"
          ]
        }
      ],
      "source": [
        "!pip install numpy\n",
        "!pip install matplotlib\n",
        "!pip install scipy"
      ]
    },
    {
      "cell_type": "code",
      "source": [
        "import numpy as np\n",
        "import matplotlib.pyplot as plt\n",
        "from book.dataset.mnist import load_mnist"
      ],
      "metadata": {
        "id": "2WPbDpzlm75h"
      },
      "execution_count": 36,
      "outputs": []
    },
    {
      "cell_type": "markdown",
      "source": [
        "# 1. Perceptron"
      ],
      "metadata": {
        "id": "jXo6FbGWSFRD"
      }
    },
    {
      "cell_type": "code",
      "source": [
        "def AND(x1, x2):\n",
        "\n",
        "  x = np.array([x1, x2])\n",
        "  w = np.array([0.5, 0.5])\n",
        "  b = -0.7\n",
        "\n",
        "  tmp = np.sum(x*w) + b\n",
        "\n",
        "  if tmp <= 0:\n",
        "    return 0\n",
        "\n",
        "  else:\n",
        "    return 1\n",
        "\n",
        "\n",
        "def NAND(x1, x2):\n",
        "\n",
        "  x = np.array([x1, x2])\n",
        "  w = np.array([-0.5, -0.5])\n",
        "  b = 0.7\n",
        "\n",
        "  tmp = np.sum(x*w) + b\n",
        "\n",
        "  if tmp <= 0:\n",
        "    return 0\n",
        "\n",
        "  else:\n",
        "    return 1\n",
        "\n",
        "\n",
        "def OR(x1, x2):\n",
        "\n",
        "  x = np.array([x1, x2])\n",
        "  w = np.array([0.5, 0.5])\n",
        "  b = -0.2\n",
        "\n",
        "  tmp = np.sum(x*w) + b\n",
        "\n",
        "  if tmp <= 0:\n",
        "    return 0\n",
        "\n",
        "  else:\n",
        "    return 1"
      ],
      "metadata": {
        "id": "5NvXLKs3SKSF"
      },
      "execution_count": 5,
      "outputs": []
    },
    {
      "cell_type": "code",
      "source": [
        "def XOR(x1, x2):\n",
        "  s1 = NAND(x1, x2)\n",
        "  s2 = OR(x1, x2)\n",
        "  y = AND(s1, s2)\n",
        "\n",
        "  return y"
      ],
      "metadata": {
        "id": "0vD0Fwi7TjeC"
      },
      "execution_count": 6,
      "outputs": []
    },
    {
      "cell_type": "code",
      "source": [
        "print(XOR(0, 0))\n",
        "print(XOR(0, 1))\n",
        "print(XOR(1, 0))\n",
        "print(XOR(1, 1))"
      ],
      "metadata": {
        "colab": {
          "base_uri": "https://localhost:8080/"
        },
        "id": "ZFfG7y3STwyS",
        "outputId": "dea3144d-7743-4d68-9ddf-1ff26d85e2c3"
      },
      "execution_count": 7,
      "outputs": [
        {
          "output_type": "stream",
          "name": "stdout",
          "text": [
            "0\n",
            "1\n",
            "1\n",
            "0\n"
          ]
        }
      ]
    },
    {
      "cell_type": "markdown",
      "source": [
        "# 2. Neural Network"
      ],
      "metadata": {
        "id": "Ub0uzXblVL7n"
      }
    },
    {
      "cell_type": "markdown",
      "source": [
        "## Activation Function"
      ],
      "metadata": {
        "id": "O9Y5IOE8VqOB"
      }
    },
    {
      "cell_type": "code",
      "source": [
        "def step_function(x):\n",
        "  return np.array(x>0, dtype=np.int64)\n",
        "\n",
        "\n",
        "def sigmoid(x):\n",
        "  return 1 / (1 + np.exp(-x))\n",
        "\n",
        "\n",
        "def relu(x):\n",
        "  return np.maximum(0,x)\n",
        "\n",
        "\n",
        "def identity_function(x):\n",
        "  return x\n",
        "\n",
        "\n",
        "def softmax(x):\n",
        "  exp_x = np.exp(x)\n",
        "  sum_exp_x = np.sum(exp_x)\n",
        "  y = exp_x / sum_exp_x\n",
        "\n",
        "  return y"
      ],
      "metadata": {
        "id": "GGp_Qmq2Vwev"
      },
      "execution_count": 32,
      "outputs": []
    },
    {
      "cell_type": "code",
      "source": [
        "x = np.linspace(-5,5,1000)\n",
        "y1 = step_function(x)\n",
        "y2 = sigmoid(x)\n",
        "y3 = relu(x)\n",
        "\n",
        "plt.plot(x, y1, label=\"step function\")\n",
        "plt.plot(x, y2, label=\"sigmoid function\")\n",
        "plt.plot(x, y3, label=\"relu function\")\n",
        "plt.ylim(-0.1, 5.1)\n",
        "plt.show()"
      ],
      "metadata": {
        "colab": {
          "base_uri": "https://localhost:8080/",
          "height": 430
        },
        "id": "_-kSdVvilMWn",
        "outputId": "20a60fc5-4294-4d05-df20-54afe5d2881c"
      },
      "execution_count": 30,
      "outputs": [
        {
          "output_type": "display_data",
          "data": {
            "text/plain": [
              "<Figure size 640x480 with 1 Axes>"
            ],
            "image/png": "[encoded data removed]"
          },
          "metadata": {}
        }
      ]
    },
    {
      "cell_type": "code",
      "source": [
        "a = np.array([0.3, 2.9, 4.0])\n",
        "softmax(a)"
      ],
      "metadata": {
        "colab": {
          "base_uri": "https://localhost:8080/"
        },
        "id": "V0uRW_70l-VH",
        "outputId": "cbad9a21-fc63-4302-bbec-4139f18c63bc"
      },
      "execution_count": 33,
      "outputs": [
        {
          "output_type": "execute_result",
          "data": {
            "text/plain": [
              "array([0.01821127, 0.24519181, 0.73659691])"
            ]
          },
          "metadata": {},
          "execution_count": 33
        }
      ]
    },
    {
      "cell_type": "markdown",
      "source": [
        "## Three Layer Neural Net"
      ],
      "metadata": {
        "id": "_BMBGP0fYJqv"
      }
    },
    {
      "cell_type": "code",
      "source": [
        "def init_network():\n",
        "  network = {}\n",
        "  network['W1'] = np.array([[0.1, 0.2], [0.3, 0.4], [0.5, 0.6]])\n",
        "  network['b1'] = np.array([0.1, 0.2, 0.3])\n",
        "  network['W2'] = np.array([[0.1, 0.2, 0.3], [0.4, 0.5, 0.6]])\n",
        "  network['b2'] = np.array([0.1, 0.2])\n",
        "  network['W3'] = np.array([[0.1, 0.2], [0.3, 0.4]])\n",
        "  network['b3'] = np.array([0.1, 0.2])\n",
        "\n",
        "  return network"
      ],
      "metadata": {
        "id": "UwkUzkwdYNsh"
      },
      "execution_count": 26,
      "outputs": []
    },
    {
      "cell_type": "code",
      "source": [
        "def forward(network, x):\n",
        "  W1, W2, W3 = network['W1'], network['W2'], network['W3']\n",
        "  b1, b2, b3 = network['b1'], network['b2'], network['b3']\n",
        "\n",
        "  a1 = np.matmul(W1, x) + b1\n",
        "  z1 = sigmoid(a1)\n",
        "\n",
        "  a2 = np.matmul(W2, z1) + b2\n",
        "  z2 = sigmoid(a2)\n",
        "\n",
        "  a3 = np.matmul(W3, z2) + b3\n",
        "\n",
        "  return a3"
      ],
      "metadata": {
        "id": "DKzUB7P7YOEV"
      },
      "execution_count": 27,
      "outputs": []
    },
    {
      "cell_type": "code",
      "source": [
        "forward(init_network(), np.array([1, 0.5]))"
      ],
      "metadata": {
        "colab": {
          "base_uri": "https://localhost:8080/"
        },
        "id": "JWMTVoJjYN81",
        "outputId": "832f40ae-ad24-4757-9a4e-12c0ff172c2a"
      },
      "execution_count": 28,
      "outputs": [
        {
          "output_type": "execute_result",
          "data": {
            "text/plain": [
              "array([0.31682708, 0.69627909])"
            ]
          },
          "metadata": {},
          "execution_count": 28
        }
      ]
    },
    {
      "cell_type": "markdown",
      "source": [
        "## MNIST Practice"
      ],
      "metadata": {
        "id": "ssmbVAcavRIk"
      }
    },
    {
      "cell_type": "code",
      "source": [],
      "metadata": {
        "id": "x0hhXbMSvT6F"
      },
      "execution_count": null,
      "outputs": []
    }
  ]
}